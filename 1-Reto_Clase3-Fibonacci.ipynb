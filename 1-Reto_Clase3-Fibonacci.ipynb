{
 "cells": [
  {
   "cell_type": "markdown",
   "metadata": {
    "id": "SibvTVgctQrQ"
   },
   "source": [
    "# Reto MIS2\n",
    "\n",
    "## Reto Número 1.\n",
    "Realiza una función donde generes el siguiente número de la sucesión [Fibonacci](https://www.eade.es/blog/186-la-sucesion-de-fibonacci-en-el-diseno#:~:text=Se%20trata%20de%20una%20secuencia,%2C%2021%2C%2034%2C%2055%E2%80%A6) a partir del 0 y el 1, se van sumando a pares, de manera que cada número es igual a la suma de sus dos anteriores, de manera que:\n",
    "\n",
    "0, 1, 1, 2, 3, 5, 8, 13, 21, 34, 55…\n",
    "\n",
    "Integra en la función fibonacci un ciclo **for**, donde genere los primeros números de la secuencia fibo. Recuerda poner un **print**\n",
    "\n",
    "Tip: Sera necesario usar un **if** y **else** para cumplir tal propósito."
   ]
  },
  {
   "cell_type": "code",
   "execution_count": 14,
   "metadata": {
    "id": "ayvxoVtQtLZx"
   },
   "outputs": [],
   "source": [
    "# Responder en los espacios ___\n",
    "#1 ) Genera un range de 1 a N, recuerda que el último es excluyente por lo que deberas aumentarle un +1.\n",
    "#2 ) Generar un condición donde el primer ciclo solo se sume un +1.\n",
    "#3 ) Sumar las últimos dos elementos de la lista para que así se cumpla la secuencia Fibonacci.\n",
    "#4 ) Si queremos acceder al último elemento de una lista[-1], si queremos acceder al penúltimo elemento de una lista[-2] y así sucesivamente...\n",
    "\n",
    "def fibonacci(a):\n",
    "  respuesta = 0\n",
    "  lista = [0]\n",
    "  for i in range(1,a+1):\n",
    "    if i == 1:\n",
    "      respuesta = lista[-1] + 1\n",
    "    else:\n",
    "      respuesta = lista[-2] + lista[-1]\n",
    "\n",
    "    lista.append(respuesta)\n",
    "    print(respuesta)\n",
    "\n",
    "  return respuesta"
   ]
  },
  {
   "cell_type": "code",
   "execution_count": 18,
   "metadata": {
    "colab": {
     "base_uri": "https://localhost:8080/"
    },
    "id": "tOJqFWEvJ9kj",
    "outputId": "97f9b58d-f43c-48fc-9420-e70f13af586a"
   },
   "outputs": [
    {
     "name": "stdout",
     "output_type": "stream",
     "text": [
      "1\n",
      "1\n",
      "2\n",
      "3\n",
      "5\n",
      "8\n",
      "13\n",
      "21\n",
      "34\n"
     ]
    },
    {
     "data": {
      "text/plain": [
       "34"
      ]
     },
     "execution_count": 18,
     "metadata": {},
     "output_type": "execute_result"
    }
   ],
   "source": [
    "fibonacci(9)"
   ]
  },
  {
   "cell_type": "markdown",
   "metadata": {
    "id": "Kpyy8mb-1jw0"
   },
   "source": [
    "## Reto Número 2\n",
    "Integra en la función fibonacci un **while** en vez del **for** y que termine hasta que la respuesta final de la secuencia fibonacci sea mayor de 150."
   ]
  },
  {
   "cell_type": "code",
   "execution_count": 1,
   "metadata": {
    "id": "o63QlE2z1_Vm"
   },
   "outputs": [],
   "source": [
    "# Responder en los espacios ___\n",
    "# 1) Genera un fibonacci donde la variable \"a\" sea menor que el resultado final del fibo y termine hasta ahí.\n",
    "\n",
    "def fibonacci(a):\n",
    "  respuesta = 0\n",
    "  lista = [0]\n",
    "  while respuesta < 150:\n",
    "    if respuesta == 0:\n",
    "      respuesta = lista[-1] + 1\n",
    "    else:\n",
    "      respuesta = lista[-1] + lista[-2]\n",
    "\n",
    "    lista.append(respuesta)\n",
    "    print(respuesta)\n",
    "\n",
    "  return respuesta"
   ]
  },
  {
   "cell_type": "code",
   "execution_count": 4,
   "metadata": {
    "colab": {
     "base_uri": "https://localhost:8080/"
    },
    "id": "qtaSeQtbKOXk",
    "outputId": "a1c9c0dd-b90a-4bdb-a332-b1afc2dac7b8"
   },
   "outputs": [
    {
     "name": "stdout",
     "output_type": "stream",
     "text": [
      "1\n",
      "1\n",
      "2\n",
      "3\n",
      "5\n",
      "8\n",
      "13\n",
      "21\n",
      "34\n",
      "55\n",
      "89\n",
      "144\n",
      "233\n"
     ]
    },
    {
     "data": {
      "text/plain": [
       "233"
      ]
     },
     "execution_count": 4,
     "metadata": {},
     "output_type": "execute_result"
    }
   ],
   "source": [
    "fibonacci(2)"
   ]
  },
  {
   "cell_type": "markdown",
   "metadata": {
    "id": "CtKGyxOWX9rB"
   },
   "source": [
    "### 1. Reto Alto Nivel (Opcional)\n",
    "Para cada cuadro del tablero de ajedrez, cuántos granos de trigo se usan cuando se duplica: 1 grano para el primer cuadro, 2 granos para el segundo cuadro, 4 granos para el tercer cuadro, etc. Realiza el calculo correspondiente."
   ]
  },
  {
   "cell_type": "code",
   "execution_count": 25,
   "metadata": {},
   "outputs": [
    {
     "name": "stdout",
     "output_type": "stream",
     "text": [
      "Para el cuadro número 1 se tiene la cantidad de granos de  1\n",
      "Para el cuadro número 2 se tiene la cantidad de granos de  2\n",
      "Para el cuadro número 3 se tiene la cantidad de granos de  4\n",
      "Para el cuadro número 4 se tiene la cantidad de granos de  8\n",
      "Para el cuadro número 5 se tiene la cantidad de granos de  16\n",
      "Para el cuadro número 6 se tiene la cantidad de granos de  32\n",
      "Para el cuadro número 7 se tiene la cantidad de granos de  64\n",
      "Para el cuadro número 8 se tiene la cantidad de granos de  128\n",
      "Para el cuadro número 9 se tiene la cantidad de granos de  256\n",
      "Para el cuadro número 10 se tiene la cantidad de granos de  512\n",
      "Para el cuadro número 11 se tiene la cantidad de granos de  1024\n",
      "Para el cuadro número 12 se tiene la cantidad de granos de  2048\n",
      "Para el cuadro número 13 se tiene la cantidad de granos de  4096\n",
      "Para el cuadro número 14 se tiene la cantidad de granos de  8192\n",
      "Para el cuadro número 15 se tiene la cantidad de granos de  16384\n",
      "Para el cuadro número 16 se tiene la cantidad de granos de  32768\n",
      "Para el cuadro número 17 se tiene la cantidad de granos de  65536\n",
      "Para el cuadro número 18 se tiene la cantidad de granos de  131072\n",
      "Para el cuadro número 19 se tiene la cantidad de granos de  262144\n",
      "Para el cuadro número 20 se tiene la cantidad de granos de  524288\n",
      "Para el cuadro número 21 se tiene la cantidad de granos de  1048576\n",
      "Para el cuadro número 22 se tiene la cantidad de granos de  2097152\n",
      "Para el cuadro número 23 se tiene la cantidad de granos de  4194304\n",
      "Para el cuadro número 24 se tiene la cantidad de granos de  8388608\n",
      "Para el cuadro número 25 se tiene la cantidad de granos de  16777216\n",
      "Para el cuadro número 26 se tiene la cantidad de granos de  33554432\n",
      "Para el cuadro número 27 se tiene la cantidad de granos de  67108864\n",
      "Para el cuadro número 28 se tiene la cantidad de granos de  134217728\n",
      "Para el cuadro número 29 se tiene la cantidad de granos de  268435456\n",
      "Para el cuadro número 30 se tiene la cantidad de granos de  536870912\n",
      "Para el cuadro número 31 se tiene la cantidad de granos de  1073741824\n",
      "Para el cuadro número 32 se tiene la cantidad de granos de  2147483648\n",
      "Para el cuadro número 33 se tiene la cantidad de granos de  4294967296\n",
      "Para el cuadro número 34 se tiene la cantidad de granos de  8589934592\n",
      "Para el cuadro número 35 se tiene la cantidad de granos de  17179869184\n",
      "Para el cuadro número 36 se tiene la cantidad de granos de  34359738368\n",
      "Para el cuadro número 37 se tiene la cantidad de granos de  68719476736\n",
      "Para el cuadro número 38 se tiene la cantidad de granos de  137438953472\n",
      "Para el cuadro número 39 se tiene la cantidad de granos de  274877906944\n",
      "Para el cuadro número 40 se tiene la cantidad de granos de  549755813888\n",
      "Para el cuadro número 41 se tiene la cantidad de granos de  1099511627776\n",
      "Para el cuadro número 42 se tiene la cantidad de granos de  2199023255552\n",
      "Para el cuadro número 43 se tiene la cantidad de granos de  4398046511104\n",
      "Para el cuadro número 44 se tiene la cantidad de granos de  8796093022208\n",
      "Para el cuadro número 45 se tiene la cantidad de granos de  17592186044416\n",
      "Para el cuadro número 46 se tiene la cantidad de granos de  35184372088832\n",
      "Para el cuadro número 47 se tiene la cantidad de granos de  70368744177664\n",
      "Para el cuadro número 48 se tiene la cantidad de granos de  140737488355328\n",
      "Para el cuadro número 49 se tiene la cantidad de granos de  281474976710656\n",
      "Para el cuadro número 50 se tiene la cantidad de granos de  562949953421312\n",
      "Para el cuadro número 51 se tiene la cantidad de granos de  1125899906842624\n",
      "Para el cuadro número 52 se tiene la cantidad de granos de  2251799813685248\n",
      "Para el cuadro número 53 se tiene la cantidad de granos de  4503599627370496\n",
      "Para el cuadro número 54 se tiene la cantidad de granos de  9007199254740992\n",
      "Para el cuadro número 55 se tiene la cantidad de granos de  18014398509481984\n",
      "Para el cuadro número 56 se tiene la cantidad de granos de  36028797018963968\n",
      "Para el cuadro número 57 se tiene la cantidad de granos de  72057594037927936\n",
      "Para el cuadro número 58 se tiene la cantidad de granos de  144115188075855872\n",
      "Para el cuadro número 59 se tiene la cantidad de granos de  288230376151711744\n",
      "Para el cuadro número 60 se tiene la cantidad de granos de  576460752303423488\n",
      "Para el cuadro número 61 se tiene la cantidad de granos de  1152921504606846976\n",
      "Para el cuadro número 62 se tiene la cantidad de granos de  2305843009213693952\n",
      "Para el cuadro número 63 se tiene la cantidad de granos de  4611686018427387904\n",
      "Para el cuadro número 64 se tiene la cantidad de granos de  9223372036854775808\n"
     ]
    }
   ],
   "source": [
    "respuesta = 0\n",
    "cuadro=0\n",
    "for i in range(0,64):\n",
    "    respuesta = 2**i\n",
    "    cuadro = cuadro +1\n",
    "    print('Para el cuadro número', cuadro, \"se tiene la cantidad de granos de \", respuesta)"
   ]
  },
  {
   "cell_type": "markdown",
   "metadata": {
    "id": "3doFKVDLYDaT"
   },
   "source": [
    "### 2. Reto Alto Nivel (Opcional)\n",
    "Crear una función que dado un año, diga si es bisiesto.\n",
    "\n",
    "Podemos consultar la Wikipedia para saber qué años son bisiestos.\n",
    "https://es.wikipedia.org/wiki/A%C3%B1o_bisiesto\n",
    "\n",
    "Como puedes ver, existe una regla general  de que los años deben ser bisiestos (son múltiplos de 4), pero hay excepciones a esta regla general (los años terminan en 00, por lo que al final del año en este caso, el año no es un año bisiesto, pero con la última excepción de la excepción anterior (donde el año es un múltiplo de 400), el año es un año bisiesto\n",
    "Por ejemplo, los años 2100, 2200 y 2300 no son años bisiestos, pero  2400 es un año bisiesto."
   ]
  },
  {
   "cell_type": "code",
   "execution_count": 2,
   "metadata": {},
   "outputs": [],
   "source": [
    "def bisiesto(a):\n",
    "  respuesta = a\n",
    "  if respuesta % 400 == 0:\n",
    "      print(\"El año es bisiesto\")\n",
    "  elif respuesta % 4 ==0 and respuesta %100 !=0:\n",
    "      print(\"El año es bisiesto\")\n",
    "  else:\n",
    "     print(\"El año no es bisiesto\")\n",
    "\n",
    "  return "
   ]
  },
  {
   "cell_type": "code",
   "execution_count": 5,
   "metadata": {},
   "outputs": [
    {
     "name": "stdout",
     "output_type": "stream",
     "text": [
      "El año no es bisiesto\n"
     ]
    }
   ],
   "source": [
    "bisiesto(2300)"
   ]
  }
 ],
 "metadata": {
  "colab": {
   "provenance": []
  },
  "kernelspec": {
   "display_name": "base",
   "language": "python",
   "name": "python3"
  },
  "language_info": {
   "codemirror_mode": {
    "name": "ipython",
    "version": 3
   },
   "file_extension": ".py",
   "mimetype": "text/x-python",
   "name": "python",
   "nbconvert_exporter": "python",
   "pygments_lexer": "ipython3",
   "version": "3.12.3"
  }
 },
 "nbformat": 4,
 "nbformat_minor": 0
}
